{
 "cells": [
  {
   "cell_type": "code",
   "execution_count": 17,
   "id": "3bcad3dc-9237-4118-89fc-b9db970bbd2f",
   "metadata": {},
   "outputs": [],
   "source": [
    "#set dimensions\n",
    "import random\n",
    "import time\n",
    "\n",
    "wheel = [0,1, 2, 3, 4, 5, 6, 7, 8, 9, 10, 11, 12, 13, 14, 15, 16, 17, 18, 19, 20, 21, 22, 23, 24, 25, 26, 27, 28, 29, 30, 31, 32, 33, 34, 35, 36]\n",
    "money = 1000\n",
    "\n",
    "#start the game (add money, time limit)\n",
    "\n",
    "def go_to_casino():\n",
    "    print (\"Welcome to the Lara's Roulette!\")\n",
    "    keep_going = True\n",
    "    global money\n",
    "    TIME_LIMIT = 120\n",
    "    start_time = time.time()\n",
    "    while keep_going:\n",
    "        # play the roulette with the given rules\n",
    "        print(f\"You now have ${money}\")\n",
    "        if money==0:\n",
    "            print(\"At least you tried! Goodbye\")\n",
    "            return 0\n",
    "        answer = input(\"Do you want to stop playing (y/n) ?\")\n",
    "        if answer in [\"y\", \"Y\", \"Yes\", \"yes\"]:\n",
    "            print (\"Thanks for coming, bye!\")\n",
    "            keep_going = False\n",
    "            return money\n",
    "        print(\"Here we go! Play stareted...\")\n",
    "        elapsed_time = time.time() - start_time\n",
    "        if elapsed_time > TIME_LIMIT:\n",
    "            print(\"Your time limit has exceeded! YOU ARE FIRED\")\n",
    "            money=0\n",
    "            return money\n",
    "        else:\n",
    "            print(f\"Elapsed time: {elapsed_time} seconds.\")\n",
    "        betting()\n",
    "\n",
    "        \n",
    "def betting():\n",
    "        global money\n",
    "        number=-1\n",
    "        # get player's bet\n",
    "        bet = int(input(\"How much do you want to bet? To stop playing, you can enter 0.\"))\n",
    "        if bet == 0:\n",
    "            # player wants to stop playing\n",
    "            print (\"Game finished! Thanks for playing!\")\n",
    "            return 0\n",
    "        elif bet > money:\n",
    "            print (\"You don't have the bet amount in your pocket. Please place a proper bet.\")\n",
    "            return 0\n",
    "\n",
    "        # get player's choice (number or color)\n",
    "        choice = input(\"On which number or color do you want to bet (enter a number between 1 and 35 or red/black) ?\")\n",
    "        if choice == \"red\" or \"Red\":\n",
    "            color=\"red\" or \"Red\"\n",
    "        elif choice == \"black\" or \"Black\":\n",
    "            color = \"black\" or \"Black\"\n",
    "        else:\n",
    "            number == int(choice)\n",
    "            if number > 36 or number <1:\n",
    "                print (\"Pick a number between 1 and 35\")\n",
    "        if choice != \"red\" or \"Red\" or \"black\" or \"Black\":\n",
    "            print(\"You have chosen an invalid color! Please try again\")\n",
    "            return 0\n",
    "\n",
    "        # start the roulette + the winning nbr/color\n",
    "        winning_number = random.choice(wheel)\n",
    "        if winning_number == 0:\n",
    "            # winning number is zero, no color\n",
    "            winning_color = None\n",
    "            print(\"Uh-oh! Winning number is 0. You lost!\")\n",
    "        elif winning_number % 2 == 0:\n",
    "            # winning number is even, winning color is black\n",
    "            winning_color = \"black\"\n",
    "            print (f\"Winning number is {winning_number}, winning color is black.\")\n",
    "        else:\n",
    "            # winning number is odd, winning color is red\n",
    "            winning_color = \"red\"\n",
    "            print (f\"Winning number is {winning_number}, winning color is red.\")\n",
    "\n",
    "        # check if player won\n",
    "        if color and color == winning_color:\n",
    "            money += 2 * bet\n",
    "            print(f\"Woohoo! You won ${2 * bet}! The winning color\")\n",
    "            return money\n",
    "        \n",
    "        elif number==winning_number:\n",
    "            money += 35*bet\n",
    "            print(f\"OMG! You won ${35 * bet}! The winning number\")\n",
    "            \n",
    "        else:\n",
    "            money -= bet\n",
    "            print (f\"We're sorry. You weren't lucky enough! You lost ${bet}.\")\n",
    "        \n",
    "        return money\n"
   ]
  },
  {
   "cell_type": "code",
   "execution_count": 18,
   "id": "f111f70f-2830-4b44-a967-62f3c8c42f26",
   "metadata": {},
   "outputs": [
    {
     "name": "stdout",
     "output_type": "stream",
     "text": [
      "Welcome to the Lara's Roulette!\n",
      "You now have $1000\n"
     ]
    },
    {
     "name": "stdin",
     "output_type": "stream",
     "text": [
      "Do you want to stop playing (y/n) ? n\n"
     ]
    },
    {
     "name": "stdout",
     "output_type": "stream",
     "text": [
      "Here we go! Play stareted...\n",
      "Elapsed time: 3.6653800010681152 seconds.\n"
     ]
    },
    {
     "name": "stdin",
     "output_type": "stream",
     "text": [
      "How much do you want to bet? To stop playing, you can enter 0. 100\n",
      "On which number or color do you want to bet (enter a number between 1 and 35 or red/black) ? blue\n"
     ]
    },
    {
     "name": "stdout",
     "output_type": "stream",
     "text": [
      "You have chosen an invalid color! Please try again\n",
      "You now have $1000\n"
     ]
    },
    {
     "name": "stdin",
     "output_type": "stream",
     "text": [
      "Do you want to stop playing (y/n) ? y\n"
     ]
    },
    {
     "name": "stdout",
     "output_type": "stream",
     "text": [
      "Thanks for coming, bye!\n"
     ]
    }
   ],
   "source": [
    "final_money=go_to_casino()"
   ]
  }
 ],
 "metadata": {
  "kernelspec": {
   "display_name": "Python 3 (ipykernel)",
   "language": "python",
   "name": "python3"
  },
  "language_info": {
   "codemirror_mode": {
    "name": "ipython",
    "version": 3
   },
   "file_extension": ".py",
   "mimetype": "text/x-python",
   "name": "python",
   "nbconvert_exporter": "python",
   "pygments_lexer": "ipython3",
   "version": "3.11.0"
  }
 },
 "nbformat": 4,
 "nbformat_minor": 5
}
